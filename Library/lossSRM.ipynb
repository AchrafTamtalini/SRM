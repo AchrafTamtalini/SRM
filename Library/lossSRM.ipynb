{
 "cells": [
  {
   "cell_type": "code",
   "execution_count": null,
   "metadata": {},
   "outputs": [],
   "source": [
    "import numpy as np"
   ]
  },
  {
   "cell_type": "code",
   "execution_count": null,
   "metadata": {},
   "outputs": [],
   "source": [
    "#Our base abstract class\n",
    "class LossAbs(object):\n",
    "    def __init__(self, X, c = None):\n",
    "        self.__X = X\n",
    "        self.__c = c\n",
    "        #shape return (numb_row, numb_col)\n",
    "        self.__dim = X.shape[1]\n",
    "    \n",
    "    @property\n",
    "    def X(self):\n",
    "        return self.__X\n",
    "    \n",
    "    @property\n",
    "    def dim(self):\n",
    "        return self.__dim\n",
    "    \n",
    "    @property\n",
    "    def c(self):\n",
    "        if self.__c is None:\n",
    "            raise AttributeError(\"The value of c is unset\")\n",
    "        return self.__c\n",
    "    \n",
    "    @c.setter\n",
    "    def c(self, c):\n",
    "        self.__c = c\n",
    "        \n",
    "    def _check_argument(self, m):\n",
    "        if m is None:\n",
    "            m = numpy.zeros(self.__dim)\n",
    "        else:\n",
    "            if m.shape != self.__dim:\n",
    "                raise ValueError(\"\"\"m must be of shape (%i). Given: %s.\"\"\" % (self.__dim, m.shape))\n",
    "        return m\n",
    "    \n",
    "    def objective(self, m):\n",
    "        return np.sum(m)\n",
    "    \n",
    "    def objective_jac(self, m):\n",
    "        return np.ones((self.__dim,))\n",
    "    \n",
    "    def ineq_constraint(self, m):\n",
    "        return self.c - self.shortfall_risk(m)\n",
    "    \n",
    "    def ineq_constraint_jac(self, m):\n",
    "        return self.shortfall_risk_jac(m)\n",
    "    \n",
    "    def shortfall_risk(self, m=None):\n",
    "        raise NotImplementedError()\n",
    "    \n",
    "    def shortfall_risk_jac(self, m):\n",
    "        raise NotImplementedError()\n",
    "        \n",
    "    \n",
    "    "
   ]
  },
  {
   "cell_type": "code",
   "execution_count": null,
   "metadata": {},
   "outputs": [],
   "source": []
  }
 ],
 "metadata": {
  "kernelspec": {
   "display_name": "Python 3",
   "language": "python",
   "name": "python3"
  },
  "language_info": {
   "codemirror_mode": {
    "name": "ipython",
    "version": 3
   },
   "file_extension": ".py",
   "mimetype": "text/x-python",
   "name": "python",
   "nbconvert_exporter": "python",
   "pygments_lexer": "ipython3",
   "version": "3.8.3"
  }
 },
 "nbformat": 4,
 "nbformat_minor": 4
}
