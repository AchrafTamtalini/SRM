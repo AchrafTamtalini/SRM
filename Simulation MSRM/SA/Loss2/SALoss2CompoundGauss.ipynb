{
 "cells": [
  {
   "cell_type": "code",
   "execution_count": 1,
   "id": "136ee6ea",
   "metadata": {},
   "outputs": [],
   "source": [
    "import sys\n",
    "sys.path.append('..')\n",
    "from CompoundPoisson2 import CompoundPoisson2\n",
    "import time\n",
    "import numpy as np\n",
    "import scipy.stats as st\n",
    "from SAABS import SA\n",
    "import pandas as pd\n",
    "import numpy.linalg as LA\n",
    "import matplotlib.pyplot as plt\n",
    "import seaborn as sns\n",
    "from scipy.optimize import minimize"
   ]
  },
  {
   "cell_type": "code",
   "execution_count": 2,
   "id": "65f46ec6",
   "metadata": {},
   "outputs": [],
   "source": [
    "\n",
    "class SALoss2(SA):\n",
    "    def __init__(self, X, c, gamma, K, t, init, epsilon, alpha):\n",
    "        self.__alpha = alpha\n",
    "        super(SALoss2, self).__init__(X, c, gamma, K, t, init, epsilon)\n",
    "    \n",
    "    @property\n",
    "    def beta(self):\n",
    "        return self.__beta\n",
    "    \n",
    "    @property\n",
    "    def alpha(self):\n",
    "        return self.__alpha\n",
    "    \n",
    "    def l(self, m):\n",
    "        m = np.array(m)\n",
    "        pos_part = np.maximum(0, m)\n",
    "        sum_term = np.sum(m)\n",
    "        square_term = np.sum(np.power(pos_part, 2))\n",
    "        cross_term = 0\n",
    "        for i in range(self.dim):\n",
    "            for j in range(i + 1, self.dim):\n",
    "                cross_term += pos_part[i] * pos_part[j]\n",
    "        return sum_term + 0.5 * square_term + self.alpha * cross_term\n",
    "        \n",
    "    def grad(self, m):\n",
    "        m = np.array(m)\n",
    "        pos_part = np.maximum(0, m)\n",
    "        sum_pos_part = np.sum(pos_part)\n",
    "        #this is the vector of sum_{j != i} x_j^+\n",
    "        pos_part_minus_xi = sum_pos_part - pos_part\n",
    "        indic = np.sign(pos_part)\n",
    "        cross_term = np.multiply(indic, pos_part_minus_xi)\n",
    "        return np.ones(self.dim) + pos_part + self.alpha * cross_term"
   ]
  },
  {
   "cell_type": "code",
   "execution_count": null,
   "id": "0238c361",
   "metadata": {},
   "outputs": [],
   "source": [
    "#code for compound distribution\n",
    "#N is the number of steps\n",
    "#the following code is for construction of compound poisson distribution\n",
    "d = 10\n",
    "N = 100000\n",
    "T = 1\n",
    "lam = np.random.randint(1, 3, d)\n",
    "lam_exp = np.random.uniform(0.2, 1.2, d)\n",
    "mu = [1 for _ in range(d)]\n",
    "sigma = [1 for _ in range(d)]\n",
    "\n",
    "R = np.random.randn(d, d)\n",
    "cov = np.dot(R, np.transpose(R))\n",
    "\n",
    "rho_gauss = np.ones((d, d))\n",
    "\n",
    "for i in range(d):\n",
    "    for j in range(i + 1, d):\n",
    "        rho_gauss[i, j] = cov[i, j] / np.sqrt(cov[i, i] * cov[j, j])\n",
    "        rho_gauss[j, i] = rho_gauss[i, j]\n",
    "C = CompoundPoisson2(T, lam, rho_gauss, N, mu, sigma)\n",
    "rho_pois = C.get_rho_pois()\n",
    "#jump size with gaussian distribution \n",
    "cov_matrix_X_gauss_jump = C.cov_final_X_gauss()\n",
    "distr = C.compound_poisson2_gauss()"
   ]
  },
  {
   "cell_type": "code",
   "execution_count": null,
   "id": "8c0a7f68",
   "metadata": {},
   "outputs": [],
   "source": [
    "#alpha is the systemic weight\n",
    "alpha = 1.\n",
    "#c, gamma of the SA\n",
    "c, gamma  = 6., 0.7\n",
    "#K the projection compact\n",
    "K = [(-1, 20) for _ in range(d)] + [(0, 10)]\n",
    "#t for the window of averaging\n",
    "t = 10\n",
    "#epsilon for the calculation of the approximation of the Jacobian matrix A\n",
    "epsilon = 10 ** (-6)\n",
    "#init is Z_0 of the SA\n",
    "init = np.zeros(d + 1)\n",
    "start_time = time.time()\n",
    "loss = SALoss2(distr, c, gamma, K, t, init, epsilon, alpha)\n",
    "#Z0 with gamma = 0.8\n",
    "Z0 = loss.setRM()\n",
    "print(\"Computation Time RM Algorithm: %s seconds ---\" % (time.time() - start_time))"
   ]
  },
  {
   "cell_type": "code",
   "execution_count": null,
   "id": "45256bd9",
   "metadata": {},
   "outputs": [],
   "source": [
    "#PR averaging\n",
    "#estimation of Sigma* and the jacobian matrix A\n",
    "loss.setEst()\n",
    "zBar, CI = loss.getPR()\n",
    "print(zBar)"
   ]
  }
 ],
 "metadata": {
  "kernelspec": {
   "display_name": "Python 3 (ipykernel)",
   "language": "python",
   "name": "python3"
  },
  "language_info": {
   "codemirror_mode": {
    "name": "ipython",
    "version": 3
   },
   "file_extension": ".py",
   "mimetype": "text/x-python",
   "name": "python",
   "nbconvert_exporter": "python",
   "pygments_lexer": "ipython3",
   "version": "3.9.7"
  }
 },
 "nbformat": 4,
 "nbformat_minor": 5
}
