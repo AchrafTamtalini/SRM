{
 "cells": [
  {
   "cell_type": "code",
   "execution_count": 1,
   "id": "fa67ff82",
   "metadata": {},
   "outputs": [],
   "source": [
    "import sys\n",
    "sys.path.append('..')\n",
    "from CompoundPoisson2 import CompoundPoisson2\n",
    "import time\n",
    "import numpy as np\n",
    "import scipy.stats as st\n",
    "from SAABS import SA\n",
    "import pandas as pd\n",
    "import numpy.linalg as LA\n",
    "import matplotlib.pyplot as plt\n",
    "import seaborn as sns\n",
    "from scipy.optimize import minimize"
   ]
  },
  {
   "cell_type": "code",
   "execution_count": 2,
   "id": "2f618ef5",
   "metadata": {},
   "outputs": [],
   "source": [
    "\n",
    "class SALoss2(SA):\n",
    "    def __init__(self, X, c, gamma, K, t, init, epsilon, alpha):\n",
    "        self.__alpha = alpha\n",
    "        super(SALoss2, self).__init__(X, c, gamma, K, t, init, epsilon)\n",
    "    \n",
    "    @property\n",
    "    def beta(self):\n",
    "        return self.__beta\n",
    "    \n",
    "    @property\n",
    "    def alpha(self):\n",
    "        return self.__alpha\n",
    "    \n",
    "    def l(self, m):\n",
    "        m = np.array(m)\n",
    "        pos_part = np.maximum(0, m)\n",
    "        sum_term = np.sum(m)\n",
    "        square_term = np.sum(np.power(pos_part, 2))\n",
    "        cross_term = 0\n",
    "        for i in range(self.dim):\n",
    "            for j in range(i + 1, self.dim):\n",
    "                cross_term += pos_part[i] * pos_part[j]\n",
    "        return sum_term + 0.5 * square_term + self.alpha * cross_term\n",
    "        \n",
    "    def grad(self, m):\n",
    "        m = np.array(m)\n",
    "        pos_part = np.maximum(0, m)\n",
    "        sum_pos_part = np.sum(pos_part)\n",
    "        #this is the vector of sum_{j != i} x_j^+\n",
    "        pos_part_minus_xi = sum_pos_part - pos_part\n",
    "        indic = np.sign(pos_part)\n",
    "        cross_term = np.multiply(indic, pos_part_minus_xi)\n",
    "        return np.ones(self.dim) + pos_part + self.alpha * cross_term"
   ]
  },
  {
   "cell_type": "code",
   "execution_count": 3,
   "id": "0c1e3a65",
   "metadata": {},
   "outputs": [
    {
     "name": "stdout",
     "output_type": "stream",
     "text": [
      "Computation Time RM Algorithm: 4.205663681030273 seconds ---\n",
      "[0.29518738 0.29085246 0.76499745]\n"
     ]
    }
   ],
   "source": [
    "#Gaussian\n",
    "#M is the length of the sample\n",
    "#Change the following parameters to switch between the different cases\n",
    "\n",
    "np.random.seed(seed=0)\n",
    "M = 100000\n",
    "#correlation between the gaussian distributions\n",
    "corr = 0.9\n",
    "#mu is the mean of the gaussian vector\n",
    "mu = [0., 0.]\n",
    "covariance = [[1., corr], [corr, 1.]]\n",
    "rv = st.multivariate_normal(mean = mu, cov = covariance, allow_singular = True)\n",
    "distr = rv.rvs(size = M)\n",
    "#alpha is the systemic weight\n",
    "alpha = 1.\n",
    "#c, gamma of the SA\n",
    "c, gamma  = 6., 1\n",
    "#K the projection compact\n",
    "K = [[0, 2], [0, 2], [0, 2]]\n",
    "#t for the window of averaging\n",
    "t = 10\n",
    "#epsilon for the calculation of the approximation of the Jacobian matrix A\n",
    "epsilon = 10 ** (-6)\n",
    "#init is Z_0 of the SA\n",
    "init = [0, 0, 0]\n",
    "start_time = time.time()\n",
    "loss = SALoss2(distr, c, gamma, K, t, init, epsilon, alpha)\n",
    "#Z1 with gamma = 1\n",
    "Z1 = loss.setRM()\n",
    "print(\"Computation Time RM Algorithm: %s seconds ---\" % (time.time() - start_time))\n",
    "#Z0 with gamma = 0.7\n",
    "gamma = 0.7\n",
    "loss = SALoss2(distr, c, gamma, K, t, init, epsilon, alpha)\n",
    "Z0 = loss.setRM()\n",
    "print(Z0[:,-1])\n",
    "\n"
   ]
  },
  {
   "cell_type": "code",
   "execution_count": 4,
   "id": "e4cdff08",
   "metadata": {},
   "outputs": [
    {
     "data": {
      "text/plain": [
       "<matplotlib.legend.Legend at 0x246105ff7c0>"
      ]
     },
     "execution_count": 4,
     "metadata": {},
     "output_type": "execute_result"
    },
    {
     "data": {
      "image/png": "[encoded data removed]",
      "text/plain": [
       "<Figure size 432x288 with 1 Axes>"
      ]
     },
     "metadata": {
      "needs_background": "light"
     },
     "output_type": "display_data"
    }
   ],
   "source": [
    "sample_size = [i for i in range(1, M + 1)]\n",
    "fig, ax = plt.subplots()\n",
    "textstr = '\\n'.join((\n",
    "    r'$c=%.f$' %(c, ),\n",
    "    r'$\\rho=%.1f$'%(corr, )))\n",
    "props = dict(boxstyle='round', facecolor='white', alpha=0.5)\n",
    "plt.plot(sample_size, Z0[0], label = r'RM($\\gamma = 0.7$)')\n",
    "plt.plot(sample_size, Z1[0], label = r'RM($\\gamma = 1$)')\n",
    "plt.text(0.1, 0.95, textstr, transform=ax.transAxes, fontsize=14,\n",
    "        verticalalignment='top', bbox=props)\n",
    "plt.xlabel('n')\n",
    "plt.legend()"
   ]
  },
  {
   "cell_type": "code",
   "execution_count": 5,
   "id": "35a118c2",
   "metadata": {},
   "outputs": [
    {
     "name": "stdout",
     "output_type": "stream",
     "text": [
      "[0.30733906 0.30701113 0.65188387]\n"
     ]
    }
   ],
   "source": [
    "#PR averaging\n",
    "#estimation of Sigma* and the jacobian matrix A\n",
    "loss.setEst()\n",
    "zBar, CI = loss.getPR()\n",
    "print(zBar)"
   ]
  },
  {
   "cell_type": "code",
   "execution_count": null,
   "id": "4aa1a633",
   "metadata": {},
   "outputs": [],
   "source": []
  }
 ],
 "metadata": {
  "kernelspec": {
   "display_name": "Python 3 (ipykernel)",
   "language": "python",
   "name": "python3"
  },
  "language_info": {
   "codemirror_mode": {
    "name": "ipython",
    "version": 3
   },
   "file_extension": ".py",
   "mimetype": "text/x-python",
   "name": "python",
   "nbconvert_exporter": "python",
   "pygments_lexer": "ipython3",
   "version": "3.9.7"
  }
 },
 "nbformat": 4,
 "nbformat_minor": 5
}
