{
 "cells": [
  {
   "cell_type": "code",
   "execution_count": 1,
   "id": "82ed4f70",
   "metadata": {},
   "outputs": [],
   "source": [
    "import sys\n",
    "sys.path.append('..')\n",
    "from CompoundPoisson2 import CompoundPoisson2\n",
    "import time\n",
    "import numpy as np\n",
    "import scipy.stats as st\n",
    "from SAABS import SA\n",
    "import pandas as pd\n",
    "import numpy.linalg as LA\n",
    "import matplotlib.pyplot as plt\n",
    "import seaborn as sns\n",
    "from scipy.optimize import minimize"
   ]
  },
  {
   "cell_type": "code",
   "execution_count": 2,
   "id": "2b55afb1",
   "metadata": {},
   "outputs": [],
   "source": [
    "class SALoss1(SA):\n",
    "    def __init__(self, X, c, gamma, K, t, init, epsilon, beta, alpha):\n",
    "        self.__alpha = alpha\n",
    "        self.__beta = beta\n",
    "        super(SALoss1, self).__init__(X, c, gamma, K, t, init, epsilon)\n",
    "    \n",
    "    @property\n",
    "    def beta(self):\n",
    "        return self.__beta\n",
    "    \n",
    "    @property\n",
    "    def alpha(self):\n",
    "        return self.__alpha\n",
    "    \n",
    "    def l(self, m):\n",
    "        m = np.array(m)\n",
    "        exp_m = np.exp(m)\n",
    "        sum_m = np.sum(m)\n",
    "        s1, s2 = np.sum(self.beta * exp_m), np.exp(self.beta * sum_m)\n",
    "        return (1 / (1 + self.alpha)) * (s1 + self.alpha * s2) - (self.dim + self.alpha)/ (1 + self.alpha)\n",
    "        \n",
    "    \n",
    "    def grad(self, m):\n",
    "        m = np.array(m)\n",
    "        sum_m = np.sum(m)\n",
    "        common_exp = np.exp(self.beta * sum_m * np.ones(self.dim))\n",
    "        exp_m = np.exp(self.beta * m)\n",
    "        return (self.beta / (1 + self.alpha)) * (exp_m + self.alpha * common_exp)\n",
    "\n",
    "\n",
    "#closed formula in 2d and gaussian distribution\n",
    "def closedForm2d(covariance, beta, alpha):\n",
    "    sigma = [np.sqrt(covariance[0][0]), np.sqrt(covariance[1][1])]\n",
    "    rho = covariance[0][1] / (sigma[0] * sigma[1])\n",
    "    res = np.array([beta * covariance[0][0] / 2, beta * covariance[1][1] / 2])\n",
    "    if alpha == 0:\n",
    "        return res\n",
    "    num = alpha * np.exp(rho * beta ** 2 * sigma[0] * sigma[1])\n",
    "    denom = -1 + np.sqrt(1 + alpha * (alpha + 2) * np.exp(rho * beta ** 2 * sigma[0] * sigma[1]))\n",
    "    SRC = np.log( num / denom)\n",
    "    return res + (1 / beta) * SRC * np.ones(2)"
   ]
  },
  {
   "cell_type": "code",
   "execution_count": 3,
   "id": "97aa1c5c",
   "metadata": {},
   "outputs": [
    {
     "name": "stdout",
     "output_type": "stream",
     "text": [
      "Computation Time RM Algorithm: 4.129224538803101 seconds ---\n"
     ]
    }
   ],
   "source": [
    "#Gaussian\n",
    "#Case: rho = 0, alpha = 1\n",
    "#M is the length of the sample\n",
    "\n",
    "np.random.seed(seed=0)\n",
    "M = 100000\n",
    "#correlation between the gaussian distributions\n",
    "corr = 0\n",
    "#mu is the mean of the gaussian vector\n",
    "mu = [0., 0.]\n",
    "covariance = [[1., corr], [corr, 1.]]\n",
    "rv = st.multivariate_normal(mean = mu, cov = covariance, allow_singular = True)\n",
    "distr = rv.rvs(size = M)\n",
    "#alpha is the systemic weight\n",
    "alpha = 1.\n",
    "#c, gamma of the SA\n",
    "c, gamma  = 1., 1\n",
    "#K the projection compact\n",
    "K = [[0, 2], [0, 2], [0, 2]]\n",
    "#t for the window of averaging\n",
    "t = 10\n",
    "#epsilon for the calculation of the approximation of the Jacobian matrix A\n",
    "epsilon = 10 ** (-6)\n",
    "#init is Z_0 of the SA\n",
    "init = [0, 0, 0]\n",
    "#beta of the loss function\n",
    "beta = 1.\n",
    "start_time = time.time()\n",
    "loss = SALoss1(distr, c, gamma, K, t, init, epsilon, beta, alpha)\n",
    "#Z1 with gamma = 1\n",
    "Z1 = loss.setRM()\n",
    "print(\"Computation Time RM Algorithm: %s seconds ---\" % (time.time() - start_time))\n",
    "#Z1 with gamma = 1\n",
    "gamma = 0.7\n",
    "loss = SALoss1(distr, c, gamma, K, t, init, epsilon, beta, alpha)\n",
    "Z0 = loss.setRM()\n",
    "#closed formula for this case\n",
    "exactOpt = closedForm2d(covariance, beta, alpha)\n",
    "exact = [exactOpt[0] for _ in range(M)]"
   ]
  },
  {
   "cell_type": "code",
   "execution_count": 4,
   "id": "de3c5d8a",
   "metadata": {},
   "outputs": [
    {
     "data": {
      "text/plain": [
       "<matplotlib.legend.Legend at 0x2171f2efac0>"
      ]
     },
     "execution_count": 4,
     "metadata": {},
     "output_type": "execute_result"
    },
    {
     "data": {
      "image/png": "[encoded data removed]",
      "text/plain": [
       "<Figure size 432x288 with 1 Axes>"
      ]
     },
     "metadata": {
      "needs_background": "light"
     },
     "output_type": "display_data"
    }
   ],
   "source": [
    "sample_size = [i for i in range(1, M + 1)]\n",
    "fig, ax = plt.subplots()\n",
    "textstr = '\\n'.join((\n",
    "    r'$c=%.f$' %(c, ),\n",
    "    r'$\\rho=%.1f$'%(corr, )))\n",
    "props = dict(boxstyle='round', facecolor='white', alpha=0.5)\n",
    "plt.plot(sample_size, Z0[0], label = r'RM($\\gamma = 0.7$)')\n",
    "plt.plot(sample_size, Z1[0], label = r'RM($\\gamma = 1$)')\n",
    "plt.plot(sample_size, exact, label = r'$m_1^*$')\n",
    "plt.text(0.1, 0.95, textstr, transform=ax.transAxes, fontsize=14,\n",
    "        verticalalignment='top', bbox=props)\n",
    "plt.xlabel('n')\n",
    "plt.legend()"
   ]
  },
  {
   "cell_type": "code",
   "execution_count": 5,
   "id": "389ccab7",
   "metadata": {},
   "outputs": [
    {
     "name": "stdout",
     "output_type": "stream",
     "text": [
      "[0.49642875 0.50494228 0.9965706 ]\n"
     ]
    }
   ],
   "source": [
    "#PR averaging\n",
    "#estimation of Sigma* and the jacobian matrix A\n",
    "loss.setEst()\n",
    "zBar, CI = loss.getPR()\n",
    "print(zBar)"
   ]
  },
  {
   "cell_type": "code",
   "execution_count": null,
   "id": "9a455933",
   "metadata": {},
   "outputs": [],
   "source": []
  }
 ],
 "metadata": {
  "kernelspec": {
   "display_name": "Python 3 (ipykernel)",
   "language": "python",
   "name": "python3"
  },
  "language_info": {
   "codemirror_mode": {
    "name": "ipython",
    "version": 3
   },
   "file_extension": ".py",
   "mimetype": "text/x-python",
   "name": "python",
   "nbconvert_exporter": "python",
   "pygments_lexer": "ipython3",
   "version": "3.9.7"
  }
 },
 "nbformat": 4,
 "nbformat_minor": 5
}
