{
 "cells": [
  {
   "cell_type": "code",
   "execution_count": 1,
   "id": "4c72462a",
   "metadata": {},
   "outputs": [],
   "source": [
    "import sys\n",
    "sys.path.append('..')\n",
    "from CompoundPoisson2 import CompoundPoisson2\n",
    "from MCABS import MCLossAbs\n",
    "import numpy as np\n",
    "import scipy.stats as st\n",
    "import math\n",
    "from scipy.optimize import minimize\n",
    "import time"
   ]
  },
  {
   "cell_type": "code",
   "execution_count": 2,
   "id": "d4f303fc",
   "metadata": {},
   "outputs": [],
   "source": [
    "#class for loss function of the following form :  l(x) = 1 / (1 + alpha)(sum(exp(beta * xi)) + alpha*exp(beta *sum(xi)))- (alpha+d)/(alpha+1)\n",
    "class MCLossFunction2(MCLossAbs):\n",
    "    def __init__(self, X, alpha):\n",
    "        self.__alpha = alpha\n",
    "        super(MCLossFunction2, self).__init__(X)\n",
    "        \n",
    "    def shortfall_risk(self, m = None):\n",
    "        m = self._check_argument(m)\n",
    "        #This substract from the col i of X, m_i\n",
    "        #X is a matrix of dim columns and N rows where N is the sample's length\n",
    "        x_minus_m = np.subtract(self.X, m)\n",
    "        #axis = 1 means we sum the elements of each row\n",
    "        mean_sum = np.mean(np.sum(x_minus_m, axis = 1))\n",
    "        pos_part = np.maximum(x_minus_m, 0)\n",
    "        mean_sum_2 = np.mean(np.sum(pos_part ** 2, axis = 1))\n",
    "        cross_term = 0.\n",
    "        for i in range(self.dim):\n",
    "            for j in range(i + 1, self.dim):\n",
    "                cross_term += np.mean(np.multiply(pos_part[:, i], pos_part[:, j]))\n",
    "        return mean_sum + 0.5 * mean_sum_2 + self.__alpha * cross_term\n",
    "    \n",
    "    def shortfall_risk_jac(self, m):\n",
    "        m = self._check_argument(m)\n",
    "        x_minus_m = np.subtract(self.X, m)\n",
    "        pos_part = np.maximum(x_minus_m, 0) \n",
    "        pos_part_mean = np.mean(pos_part, axis = 0)\n",
    "        cross_jac = []\n",
    "        for i in range(self.dim):\n",
    "            temp = 0.\n",
    "            indic_i = np.sign(pos_part[:, i])\n",
    "            for k in range(self.dim):\n",
    "                if k != i:\n",
    "                    temp += self.__alpha * np.mean(np.multiply(pos_part[:, k], indic_i))\n",
    "            cross_jac.append(temp)\n",
    "        return pos_part_mean + 1. + cross_jac"
   ]
  },
  {
   "cell_type": "code",
   "execution_count": null,
   "id": "5a968d2f",
   "metadata": {},
   "outputs": [],
   "source": [
    "#code for compound\n",
    "#N is the number of steps\n",
    "#the following code is for construction of compound poisson distribution\n",
    "d = 10\n",
    "N = 100000\n",
    "T = 1\n",
    "lam = np.random.randint(1, 3, d)\n",
    "lam_exp = np.random.uniform(0.2, 1.2, d)\n",
    "mu = [1 for _ in range(d)]\n",
    "sigma = [1 for _ in range(d)]\n",
    "\n",
    "R = np.random.randn(d, d)\n",
    "cov = np.dot(R, np.transpose(R))\n",
    "\n",
    "rho_gauss = np.ones((d, d))\n",
    "\n",
    "for i in range(d):\n",
    "    for j in range(i + 1, d):\n",
    "        rho_gauss[i, j] = cov[i, j] / np.sqrt(cov[i, i] * cov[j, j])\n",
    "        rho_gauss[j, i] = rho_gauss[i, j]\n",
    "C = CompoundPoisson2(T, lam, rho_gauss, N, mu, sigma)\n",
    "rho_pois = C.get_rho_pois()\n",
    "#jump size with Gaussian distribution \n",
    "cov_matrix_X_gauss_jump = C.cov_final_X_gauss()\n",
    "X_gauss_jump = C.compound_poisson2_gauss()"
   ]
  },
  {
   "cell_type": "code",
   "execution_count": null,
   "id": "e97e7bc6",
   "metadata": {},
   "outputs": [],
   "source": [
    "alpha = 1.\n",
    "maxiter = 3500\n",
    "start_time = time.time()\n",
    "loss = MCLossFunction2(distr, alpha)\n",
    "init = np.ones(loss.dim)\n",
    "cons = ({'type': 'ineq',\n",
    "         'fun' : lambda x: loss.ineq_constraint(x),\n",
    "         'jac' : lambda x: loss.ineq_constraint_jac(x)})\n",
    "\n",
    "res = minimize(loss.objective, init, \n",
    "              jac = loss.objective_jac, \n",
    "              constraints = cons, \n",
    "               method='SLSQP',\n",
    "               options={'maxiter': maxiter, 'disp': True})\n",
    "print(res)\n",
    "print(\"--- MC Method: %s seconds ---\" % (time.time() - start_time))"
   ]
  }
 ],
 "metadata": {
  "kernelspec": {
   "display_name": "Python 3 (ipykernel)",
   "language": "python",
   "name": "python3"
  },
  "language_info": {
   "codemirror_mode": {
    "name": "ipython",
    "version": 3
   },
   "file_extension": ".py",
   "mimetype": "text/x-python",
   "name": "python",
   "nbconvert_exporter": "python",
   "pygments_lexer": "ipython3",
   "version": "3.9.7"
  }
 },
 "nbformat": 4,
 "nbformat_minor": 5
}
