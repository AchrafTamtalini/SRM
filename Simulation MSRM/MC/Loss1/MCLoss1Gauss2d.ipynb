{
 "cells": [
  {
   "cell_type": "code",
   "execution_count": 3,
   "id": "31f5565a",
   "metadata": {},
   "outputs": [],
   "source": [
    "import sys\n",
    "sys.path.append('..')\n",
    "from CompoundPoisson2 import CompoundPoisson2\n",
    "from MCABS import MCLossAbs\n",
    "import numpy as np\n",
    "import scipy.stats as st\n",
    "import math\n",
    "from scipy.optimize import minimize\n",
    "import time"
   ]
  },
  {
   "cell_type": "code",
   "execution_count": 2,
   "id": "248c4643",
   "metadata": {},
   "outputs": [
    {
     "ename": "NameError",
     "evalue": "name 'MCLossAbs' is not defined",
     "output_type": "error",
     "traceback": [
      "\u001b[1;31m---------------------------------------------------------------------------\u001b[0m",
      "\u001b[1;31mNameError\u001b[0m                                 Traceback (most recent call last)",
      "\u001b[1;32m~\\AppData\\Local\\Temp/ipykernel_18136/3476279296.py\u001b[0m in \u001b[0;36m<module>\u001b[1;34m\u001b[0m\n\u001b[0;32m      1\u001b[0m \u001b[1;31m#class for loss function of the following form :  l(x) = 1 / (1 + alpha)(sum(exp(beta * xi)) + alpha*exp(beta *sum(xi)))- (alpha+d)/(alpha+1)\u001b[0m\u001b[1;33m\u001b[0m\u001b[1;33m\u001b[0m\u001b[0m\n\u001b[1;32m----> 2\u001b[1;33m \u001b[1;32mclass\u001b[0m \u001b[0mMCLossFunction1\u001b[0m\u001b[1;33m(\u001b[0m\u001b[0mMCLossAbs\u001b[0m\u001b[1;33m)\u001b[0m\u001b[1;33m:\u001b[0m\u001b[1;33m\u001b[0m\u001b[1;33m\u001b[0m\u001b[0m\n\u001b[0m\u001b[0;32m      3\u001b[0m     \u001b[1;32mdef\u001b[0m \u001b[0m__init__\u001b[0m\u001b[1;33m(\u001b[0m\u001b[0mself\u001b[0m\u001b[1;33m,\u001b[0m \u001b[0mX\u001b[0m\u001b[1;33m,\u001b[0m \u001b[0malpha\u001b[0m\u001b[1;33m,\u001b[0m \u001b[0mbeta\u001b[0m \u001b[1;33m=\u001b[0m \u001b[1;36m1\u001b[0m\u001b[1;33m)\u001b[0m\u001b[1;33m:\u001b[0m\u001b[1;33m\u001b[0m\u001b[1;33m\u001b[0m\u001b[0m\n\u001b[0;32m      4\u001b[0m         \u001b[0mself\u001b[0m\u001b[1;33m.\u001b[0m\u001b[0m__alpha\u001b[0m \u001b[1;33m=\u001b[0m \u001b[0malpha\u001b[0m\u001b[1;33m\u001b[0m\u001b[1;33m\u001b[0m\u001b[0m\n\u001b[0;32m      5\u001b[0m         \u001b[0mself\u001b[0m\u001b[1;33m.\u001b[0m\u001b[0m__beta\u001b[0m \u001b[1;33m=\u001b[0m \u001b[0mbeta\u001b[0m\u001b[1;33m\u001b[0m\u001b[1;33m\u001b[0m\u001b[0m\n",
      "\u001b[1;31mNameError\u001b[0m: name 'MCLossAbs' is not defined"
     ]
    }
   ],
   "source": [
    "#class for loss function of the following form :  l(x) = 1 / (1 + alpha)(sum(exp(beta * xi)) + alpha*exp(beta *sum(xi)))- (alpha+d)/(alpha+1)\n",
    "class MCLossFunction1(MCLossAbs):\n",
    "    def __init__(self, X, alpha, beta = 1):\n",
    "        self.__alpha = alpha\n",
    "        self.__beta = beta\n",
    "        super(MCLossFunction1, self).__init__(X)\n",
    "        \n",
    "    def shortfall_risk(self, m = None):\n",
    "        m = self._check_argument(m)\n",
    "        beta, alpha = self.__beta, self.__alpha\n",
    "        #This substract from the col i of X, m_i\n",
    "        #X is a matrix of dim columns and N rows where N is the sample's length\n",
    "        x_minus_m = np.subtract(self.X, m)\n",
    "        exp_x_minus_m = np.exp(beta * x_minus_m)\n",
    "        #axis = 1 means we sum the elements of each row\n",
    "        mean_sum1 = np.mean(np.sum(exp_x_minus_m, axis = 1))\n",
    "        mean_sum2 = alpha * np.mean(np.exp(beta * np.sum(x_minus_m, axis = 1)))\n",
    "        return (1 / (1 + alpha)) * (mean_sum1 + mean_sum2) - (alpha + self.dim) / (alpha + 1)\n",
    "    \n",
    "    def shortfall_risk_jac(self, m):\n",
    "        m = self._check_argument(m)\n",
    "        alpha, beta = self.__alpha, self.__beta\n",
    "        x_minus_m = np.subtract(self.X, m)\n",
    "        common_mean = alpha * np.mean(np.exp(beta * np.sum(x_minus_m, axis = 1)))\n",
    "        ind_mean = np.mean(np.exp(beta * x_minus_m), axis = 0)\n",
    "        return beta / (1 + alpha) * (ind_mean + common_mean)"
   ]
  },
  {
   "cell_type": "code",
   "execution_count": null,
   "id": "8f20c504",
   "metadata": {},
   "outputs": [],
   "source": [
    "#Case: rho = 0, alpha = 1, beta = 1\n",
    "\n",
    "#M is the length of the sample\n",
    "np.random.seed(seed=0)\n",
    "M = 100000\n",
    "corr = 0.9\n",
    "mu = [0., 0.]\n",
    "sigma = [[1., corr], [corr, 1.]]\n",
    "\n",
    "rv = st.multivariate_normal(mean = mu, cov = sigma, allow_singular = True)\n",
    "distr = rv.rvs(size = M)\n",
    "\n",
    "alpha, beta = 1., 1.\n",
    "\n",
    "maxiter = 3500\n",
    "\n",
    "start_time = time.time()\n",
    "\n",
    "loss = MCLossFunction1(distr, alpha, beta)\n",
    "\n",
    "\n",
    "init = np.ones(loss.dim)\n",
    "cons = ({'type': 'ineq',\n",
    "         'fun' : lambda x: loss.ineq_constraint(x),\n",
    "         'jac' : lambda x: loss.ineq_constraint_jac(x)})\n",
    "\n",
    "\n",
    "res = minimize(loss.objective, init, \n",
    "              jac = loss.objective_jac, \n",
    "              constraints = cons, \n",
    "               method='SLSQP',\n",
    "               options={'maxiter': maxiter, 'disp': True})\n",
    "print(res)\n",
    "print(\"--- MC Method: %s seconds ---\" % (time.time() - start_time))"
   ]
  }
 ],
 "metadata": {
  "kernelspec": {
   "display_name": "Python 3 (ipykernel)",
   "language": "python",
   "name": "python3"
  },
  "language_info": {
   "codemirror_mode": {
    "name": "ipython",
    "version": 3
   },
   "file_extension": ".py",
   "mimetype": "text/x-python",
   "name": "python",
   "nbconvert_exporter": "python",
   "pygments_lexer": "ipython3",
   "version": "3.9.7"
  }
 },
 "nbformat": 4,
 "nbformat_minor": 5
}
