{
 "cells": [
  {
   "cell_type": "code",
   "execution_count": 1,
   "metadata": {},
   "outputs": [],
   "source": [
    "import sys\n",
    "sys.path.append('../..')\n",
    "from Library.lossSRM import LossAbs\n",
    "import numpy as np\n",
    "import scipy.stats as st\n",
    "from scipy.optimize import minimize"
   ]
  },
  {
   "cell_type": "code",
   "execution_count": 2,
   "metadata": {},
   "outputs": [],
   "source": [
    "class MCLossFunction(LossAbs):\n",
    "    def __init__(self, X, alpha, c = None):\n",
    "        self.__alpha = alpha\n",
    "        super(MCLossFunction, self).__init__(X, c)    \n",
    "    def shortfall_risk(self, m = None):\n",
    "        m = self._check_argument(m)\n",
    "        #This substract from the col i of X, m_i\n",
    "        #X is a matrix of dim columns and N rows where N is the sample's length\n",
    "        x_minus_m = np.subtract(self.X, m)\n",
    "        #axis = 1 means we sum the elements of each row\n",
    "        mean_sum = np.mean(np.sum(x_minus_m, axis = 1))\n",
    "        pos_part = np.maximum(x_minus_m, 0)\n",
    "        mean_sum_2 = np.mean(np.sum(pos_part ** 2, axis = 1))\n",
    "        cross_term = 0.\n",
    "        for i in range(self.dim):\n",
    "            for j in range(i + 1, self.dim):\n",
    "                cross_term += np.mean(np.multiply(pos_part[:, i], pos_part[:, j]))\n",
    "        return mean_sum + 0.5 * mean_sum_2 + self.__alpha * cross_term\n",
    "    \n",
    "    def shortfall_risk_jac(self, m):\n",
    "        m = self._check_argument(m)\n",
    "        x_minus_m = np.subtract(self.X, m)\n",
    "        pos_part = np.maximum(x_minus_m, 0) \n",
    "        pos_part_mean = np.mean(pos_part, axis = 0)\n",
    "        cross_jac = []\n",
    "        for i in range(self.dim):\n",
    "            temp = 0.\n",
    "            indic_i = np.sign(pos_part[:, i])\n",
    "            for k in range(self.dim):\n",
    "                if k != i:\n",
    "                    temp += np.mean(np.multiply(pos_part[:, k], indic_i))\n",
    "            cross_jac.append(temp)\n",
    "        return pos_part_mean + 1. + cross_jac"
   ]
  },
  {
   "cell_type": "code",
   "execution_count": 5,
   "metadata": {},
   "outputs": [
    {
     "name": "stdout",
     "output_type": "stream",
     "text": [
      "Optimization terminated successfully    (Exit mode 0)\n",
      "            Current function value: -0.45636848212879416\n",
      "            Iterations: 10\n",
      "            Function evaluations: 11\n",
      "            Gradient evaluations: 10\n",
      "     fun: -0.45636848212879416\n",
      "     jac: array([1., 1., 1.])\n",
      " message: 'Optimization terminated successfully'\n",
      "    nfev: 11\n",
      "     nit: 10\n",
      "    njev: 10\n",
      "  status: 0\n",
      " success: True\n",
      "       x: array([-0.15318809, -0.15586116, -0.14731923])\n"
     ]
    }
   ],
   "source": [
    "#Case: rho = 0, alpha = 0. When alpha = 0 the results are independent of correlation\n",
    "#We choose sigma_3 higher than sigma_1 = sigma_2. We expect m3 to be higher thatn m2=m1 as it is riskier.\n",
    "\n",
    "#M is the length of the sample\n",
    "M = 100000\n",
    "rho = 0.\n",
    "mu = [0., 0., 0.]\n",
    "sigma = [[0.5, 0.5 * rho, 0.], [0.5 * rho, 0.5, 0.], [0., 0., 0.6]]\n",
    "\n",
    "rv = st.multivariate_normal(mean = mu, cov = sigma, allow_singular = True)\n",
    "distr = rv.rvs(size = M)\n",
    "\n",
    "c = 1.\n",
    "alpha = 0.\n",
    "loss = MCLossFunction(distr, alpha, c)\n",
    "maxiter = 3500\n",
    "\n",
    "init =  np.zeros(loss.dim)\n",
    "cons = ({'type': 'ineq',\n",
    "         'fun' : lambda x: loss.ineq_constraint(x),\n",
    "         'jac' : lambda x: loss.ineq_constraint_jac(x)})\n",
    "res = minimize(loss.objective, init, \n",
    "              jac = loss.objective_jac, \n",
    "              constraints = cons, \n",
    "               method='SLSQP',\n",
    "               options={'maxiter': maxiter, 'disp': True})\n",
    "print(res)"
   ]
  },
  {
   "cell_type": "code",
   "execution_count": null,
   "metadata": {},
   "outputs": [],
   "source": []
  }
 ],
 "metadata": {
  "kernelspec": {
   "display_name": "Python 3",
   "language": "python",
   "name": "python3"
  },
  "language_info": {
   "codemirror_mode": {
    "name": "ipython",
    "version": 3
   },
   "file_extension": ".py",
   "mimetype": "text/x-python",
   "name": "python",
   "nbconvert_exporter": "python",
   "pygments_lexer": "ipython3",
   "version": "3.8.3"
  }
 },
 "nbformat": 4,
 "nbformat_minor": 4
}
